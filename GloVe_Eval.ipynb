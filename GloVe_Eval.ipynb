{
 "cells": [
  {
   "cell_type": "markdown",
   "metadata": {},
   "source": [
    "# [Double-Hard Debias: Tailoring Word Embeddings for Gender Bias Mitigation](https://arxiv.org/abs/2005.00965)\n",
    "\n",
    "For more detailed explanations, please refer to the paper."
   ]
  },
  {
   "cell_type": "markdown",
   "metadata": {},
   "source": [
    "### Load embeddings"
   ]
  },
  {
   "cell_type": "code",
   "execution_count": 3,
   "metadata": {},
   "outputs": [],
   "source": [
    "import codecs, os, json, operator, pickle\n",
    "from random import shuffle\n",
    "import numpy as np\n",
    "from numpy import linalg as LA\n",
    "import scipy\n",
    "\n",
    "%load_ext autoreload\n",
    "%autoreload 2"
   ]
  },
  {
   "cell_type": "code",
   "execution_count": 4,
   "metadata": {},
   "outputs": [],
   "source": [
    "def load_glove(path):\n",
    "    with open(path) as f:\n",
    "        lines = f.readlines()\n",
    "    \n",
    "    wv = []\n",
    "    vocab = []\n",
    "    for line in lines:\n",
    "        tokens = line.strip().split(\" \")\n",
    "        try:\n",
    "            assert len(tokens) == 301\n",
    "            vocab.append(tokens[0])\n",
    "            wv.append([float(elem) for elem in tokens[1:]])\n",
    "        except:\n",
    "            print(line)\n",
    "        \n",
    "    w2i = {w: i for i, w in enumerate(vocab)}\n",
    "    wv = np.array(wv).astype(float)\n",
    "    print(len(vocab), wv.shape, len(w2i))\n",
    "    \n",
    "    return wv, w2i, vocab\n",
    "\n",
    "def normalize(wv):\n",
    "    \n",
    "    # normalize vectors\n",
    "    norms = np.apply_along_axis(LA.norm, 1, wv)\n",
    "    wv = wv / norms[:, np.newaxis]\n",
    "    return wv\n",
    "\n",
    "def debias_gn(wv):\n",
    "    for v in wv:\n",
    "        assert(len(v) == 300)\n",
    "    \n",
    "    wv = wv[:,:-1]\n",
    "\n",
    "    for v in wv:\n",
    "        assert(len(v) == 299)\n",
    "    return wv"
   ]
  },
  {
   "cell_type": "code",
   "execution_count": 5,
   "metadata": {},
   "outputs": [
    {
     "name": "stdout",
     "output_type": "stream",
     "text": [
      "322636 (322636, 300) 322636\n",
      "322636 (322636, 300) 322636\n"
     ]
    }
   ],
   "source": [
    "glove, glove_w2i, vocab = load_glove(\"./data/vectors.txt\")\n",
    "gn_glove, gn_glove_w2i, gn_vocab = load_glove(\"./data/vectors300.txt\")\n",
    "gn_glove_a = debias_gn(gn_glove)"
   ]
  },
  {
   "cell_type": "code",
   "execution_count": 11,
   "metadata": {},
   "outputs": [
    {
     "name": "stdout",
     "output_type": "stream",
     "text": [
      "322636 (322636, 300) 322636\n"
     ]
    }
   ],
   "source": [
    "def load_glove_p(path):\n",
    "    \n",
    "    debiased_embeds = pickle.load(open(path, 'rb'))\n",
    "    wv = []\n",
    "    vocab = []\n",
    "    for w in debiased_embeds:\n",
    "        wv.append(np.array(debiased_embeds[w]))\n",
    "        vocab.append(str(w))\n",
    "        \n",
    "    w2i = {w: i for i, w in enumerate(vocab)}\n",
    "    wv = np.array(wv).astype(float)\n",
    "    print(len(vocab), wv.shape, len(w2i))\n",
    "        \n",
    "    return wv, w2i, vocab\n",
    "    \n",
    "dhd_glove, dhd_glove_w2i, dhd_vocab = load_glove_p(\"./data/glove_dhd.p\")"
   ]
  },
  {
   "cell_type": "code",
   "execution_count": 7,
   "metadata": {},
   "outputs": [
    {
     "name": "stdout",
     "output_type": "stream",
     "text": [
      "322636 (322636, 300) 322636\n",
      "322636 (322636, 300) 322636\n"
     ]
    }
   ],
   "source": [
    "hd_glove, hd_glove_w2i, hd_vocab = load_glove(\n",
    "    \"./data/vectors_hd.txt\")\n",
    "hd_glove_a, hd_glove_a_w2i, hd_vocab_a = load_glove(\n",
    "    \"./data/vectors_hd_a.txt\")"
   ]
  },
  {
   "cell_type": "code",
   "execution_count": 8,
   "metadata": {},
   "outputs": [
    {
     "name": "stdout",
     "output_type": "stream",
     "text": [
      "322636 300\n",
      "\n",
      "322636 (322636, 300) 322636\n",
      "322636 300\n",
      "\n",
      "322636 (322636, 300) 322636\n"
     ]
    }
   ],
   "source": [
    "gp_glove, gp_glove_w2i, gp_vocab = load_glove(\n",
    "    \"./data/gp_glove.txt\")\n",
    "gp_gn_glove, gp_gn_glove_w2i, gp_gn_vocab = load_glove(\n",
    "    \"./data/gp_gn_glove.txt\")"
   ]
  },
  {
   "cell_type": "code",
   "execution_count": 9,
   "metadata": {},
   "outputs": [],
   "source": [
    "def simi(a, b):\n",
    "    return 1-scipy.spatial.distance.cosine(a, b)"
   ]
  },
  {
   "cell_type": "markdown",
   "metadata": {},
   "source": [
    "### Word Embedding Utility: Analogy & Concept Categorization"
   ]
  },
  {
   "cell_type": "code",
   "execution_count": 2,
   "metadata": {},
   "outputs": [],
   "source": [
    "from eval import evaluate_cate, evaluate_ana, evaluate_analogy_google, evaluate_analogy_msr"
   ]
  },
  {
   "cell_type": "code",
   "execution_count": 10,
   "metadata": {},
   "outputs": [
    {
     "name": "stdout",
     "output_type": "stream",
     "text": [
      "Calculating categorization benchmarks\n",
      "Sample data from AP, num of samples: 402 : \"['ball']\" is assigned class social_occasion\n",
      "exist 401 in 402\n",
      "Cluster purity on AP 0.5561097256857855\n",
      "Sample data from ESSLI_1a, num of samples: 44 : \"['mushroom']\" is assigned class green-vegetable\n",
      "exist 44 in 44\n",
      "Cluster purity on ESSLI_1a 0.7272727272727273\n",
      "Sample data from Battig, num of samples: 5231 : \"new york\" is assigned class state\n",
      "exist 4125 in 5231\n",
      "Cluster purity on Battig 0.4976969696969697\n",
      "Sample data from BLESS, num of samples: 200 : \"['acacia']\" is assigned class tree\n",
      "exist 200 in 200\n",
      "Cluster purity on BLESS 0.81\n"
     ]
    }
   ],
   "source": [
    "evaluate_cate(glove, glove_w2i, vocab)"
   ]
  },
  {
   "cell_type": "code",
   "execution_count": 158,
   "metadata": {},
   "outputs": [
    {
     "name": "stdout",
     "output_type": "stream",
     "text": [
      "Calculating categorization benchmarks\n",
      "Sample data from AP, num of samples: 402 : \"['anger']\" is assigned class feeling\n",
      "exist 401 in 402\n",
      "Cluster purity on AP 0.6234413965087282\n",
      "Sample data from ESSLI_1a, num of samples: 44 : \"['mushroom']\" is assigned class green-vegetable\n",
      "exist 44 in 44\n",
      "Cluster purity on ESSLI_1a 0.7954545454545455\n",
      "Sample data from Battig, num of samples: 5231 : \"jazz\" is assigned class type_of_music\n",
      "exist 4125 in 5231\n",
      "Cluster purity on Battig 0.5003636363636363\n",
      "Sample data from BLESS, num of samples: 200 : \"['blouse']\" is assigned class clothing\n",
      "exist 200 in 200\n",
      "Cluster purity on BLESS 0.845\n",
      "Calculating categorization benchmarks\n",
      "Sample data from AP, num of samples: 402 : \"['anger']\" is assigned class feeling\n",
      "exist 401 in 402\n",
      "Cluster purity on AP 0.6408977556109725\n",
      "Sample data from ESSLI_1a, num of samples: 44 : \"['mushroom']\" is assigned class green-vegetable\n",
      "exist 44 in 44\n",
      "Cluster purity on ESSLI_1a 0.7954545454545455\n",
      "Sample data from Battig, num of samples: 5231 : \"jazz\" is assigned class type_of_music\n",
      "exist 4125 in 5231\n",
      "Cluster purity on Battig 0.49163636363636365\n",
      "Sample data from BLESS, num of samples: 200 : \"['blouse']\" is assigned class clothing\n",
      "exist 200 in 200\n",
      "Cluster purity on BLESS 0.845\n"
     ]
    }
   ],
   "source": [
    "evaluate_cate(hd_glove, hd_glove_w2i, hd_vocab)\n",
    "evaluate_cate(hd_glove_a, hd_glove_a_w2i, hd_vocab_a)"
   ]
  },
  {
   "cell_type": "code",
   "execution_count": 159,
   "metadata": {
    "scrolled": false
   },
   "outputs": [
    {
     "name": "stdout",
     "output_type": "stream",
     "text": [
      "Calculating categorization benchmarks\n",
      "Sample data from AP, num of samples: 402 : \"['anger']\" is assigned class feeling\n",
      "exist 401 in 402\n",
      "Cluster purity on AP 0.5685785536159601\n",
      "Sample data from ESSLI_1a, num of samples: 44 : \"['mushroom']\" is assigned class green-vegetable\n",
      "exist 44 in 44\n",
      "Cluster purity on ESSLI_1a 0.7045454545454546\n",
      "Sample data from Battig, num of samples: 5231 : \"jazz\" is assigned class type_of_music\n",
      "exist 4125 in 5231\n",
      "Cluster purity on Battig 0.4945454545454545\n",
      "Sample data from BLESS, num of samples: 200 : \"['blouse']\" is assigned class clothing\n",
      "exist 200 in 200\n",
      "Cluster purity on BLESS 0.85\n",
      "Calculating categorization benchmarks\n",
      "Sample data from AP, num of samples: 402 : \"['anger']\" is assigned class feeling\n",
      "exist 401 in 402\n",
      "Cluster purity on AP 0.5685785536159601\n",
      "Sample data from ESSLI_1a, num of samples: 44 : \"['mushroom']\" is assigned class green-vegetable\n",
      "exist 44 in 44\n",
      "Cluster purity on ESSLI_1a 0.75\n",
      "Sample data from Battig, num of samples: 5231 : \"jazz\" is assigned class type_of_music\n",
      "exist 4125 in 5231\n",
      "Cluster purity on Battig 0.5127272727272727\n",
      "Sample data from BLESS, num of samples: 200 : \"['blouse']\" is assigned class clothing\n",
      "exist 200 in 200\n",
      "Cluster purity on BLESS 0.8250000000000001\n"
     ]
    }
   ],
   "source": [
    "evaluate_cate(gn_glove, gn_glove_w2i, gn_vocab)\n",
    "evaluate_cate(gn_glove_a, gn_glove_w2i, gn_vocab)"
   ]
  },
  {
   "cell_type": "code",
   "execution_count": 12,
   "metadata": {},
   "outputs": [
    {
     "name": "stdout",
     "output_type": "stream",
     "text": [
      "Calculating categorization benchmarks\n",
      "Sample data from AP, num of samples: 402 : \"['ball']\" is assigned class social_occasion\n",
      "exist 401 in 402\n",
      "Cluster purity on AP 0.5610972568578554\n",
      "Sample data from ESSLI_1a, num of samples: 44 : \"['mushroom']\" is assigned class green-vegetable\n",
      "exist 44 in 44\n",
      "Cluster purity on ESSLI_1a 0.7272727272727273\n",
      "Sample data from Battig, num of samples: 5231 : \"new york\" is assigned class state\n",
      "exist 4125 in 5231\n",
      "Cluster purity on Battig 0.5081212121212121\n",
      "Sample data from BLESS, num of samples: 200 : \"['acacia']\" is assigned class tree\n",
      "exist 200 in 200\n",
      "Cluster purity on BLESS 0.785\n",
      "Calculating categorization benchmarks\n",
      "Sample data from AP, num of samples: 402 : \"['ball']\" is assigned class social_occasion\n",
      "exist 401 in 402\n",
      "Cluster purity on AP 0.6109725685785536\n",
      "Sample data from ESSLI_1a, num of samples: 44 : \"['mushroom']\" is assigned class green-vegetable\n",
      "exist 44 in 44\n",
      "Cluster purity on ESSLI_1a 0.7272727272727273\n",
      "Sample data from Battig, num of samples: 5231 : \"new york\" is assigned class state\n",
      "exist 4125 in 5231\n",
      "Cluster purity on Battig 0.5023030303030303\n",
      "Sample data from BLESS, num of samples: 200 : \"['acacia']\" is assigned class tree\n",
      "exist 200 in 200\n",
      "Cluster purity on BLESS 0.775\n",
      "Calculating categorization benchmarks\n",
      "Sample data from AP, num of samples: 402 : \"['ball']\" is assigned class social_occasion\n",
      "exist 401 in 402\n",
      "Cluster purity on AP 0.5960099750623441\n",
      "Sample data from ESSLI_1a, num of samples: 44 : \"['mushroom']\" is assigned class green-vegetable\n",
      "exist 44 in 44\n",
      "Cluster purity on ESSLI_1a 0.7727272727272727\n",
      "Sample data from Battig, num of samples: 5231 : \"new york\" is assigned class state\n",
      "exist 4125 in 5231\n",
      "Cluster purity on Battig 0.4761212121212121\n",
      "Sample data from BLESS, num of samples: 200 : \"['acacia']\" is assigned class tree\n",
      "exist 200 in 200\n",
      "Cluster purity on BLESS 0.795\n"
     ]
    }
   ],
   "source": [
    "evaluate_cate(gp_glove, gp_glove_w2i, gp_vocab)\n",
    "evaluate_cate(gp_gn_glove, gp_gn_glove_w2i, gp_gn_vocab)\n",
    "evaluate_cate(dhd_glove, dhd_glove_w2i, dhd_vocab)"
   ]
  },
  {
   "cell_type": "code",
   "execution_count": 151,
   "metadata": {
    "scrolled": true
   },
   "outputs": [
    {
     "name": "stdout",
     "output_type": "stream",
     "text": [
      "6750\n",
      "ACCURACY TOP1-MSR: 53.94% (3641/6750)\n",
      "capital-common-countries.txt:\n",
      "ACCURACY TOP1: 96.44% (488/506)\n",
      "capital-world.txt:\n",
      "ACCURACY TOP1: 96.35% (4359/4524)\n",
      "currency.txt:\n",
      "ACCURACY TOP1: 6.47% (56/866)\n",
      "city-in-state.txt:\n",
      "ACCURACY TOP1: 72.68% (1793/2467)\n",
      "family.txt:\n",
      "ACCURACY TOP1: 53.95% (273/506)\n",
      "gram1-adjective-to-adverb.txt:\n",
      "ACCURACY TOP1: 20.97% (208/992)\n",
      "gram2-opposite.txt:\n",
      "ACCURACY TOP1: 28.82% (234/812)\n",
      "gram3-comparative.txt:\n",
      "ACCURACY TOP1: 85.36% (1137/1332)\n",
      "gram4-superlative.txt:\n",
      "ACCURACY TOP1: 48.93% (549/1122)\n",
      "gram5-present-participle.txt:\n",
      "ACCURACY TOP1: 63.26% (668/1056)\n",
      "gram6-nationality-adjective.txt:\n",
      "ACCURACY TOP1: 91.99% (1471/1599)\n",
      "gram7-past-tense.txt:\n",
      "ACCURACY TOP1: 56.54% (882/1560)\n",
      "gram8-plural.txt:\n",
      "ACCURACY TOP1: 75.68% (1008/1332)\n",
      "gram9-plural-verbs.txt:\n",
      "ACCURACY TOP1: 58.28% (507/870)\n",
      "Questions seen/total: 100.00% (19544/19544)\n",
      "Semantic accuracy: 78.58%  (6969/8869)\n",
      "Syntactic accuracy: 62.43%  (6664/10675)\n",
      "Total accuracy: 69.76%  (13633/19544)\n",
      "Analogy prediction accuracy on SemEval2012 0.17625085732716383\n",
      "6750\n",
      "ACCURACY TOP1-MSR: 51.90% (3503/6750)\n",
      "capital-common-countries.txt:\n",
      "ACCURACY TOP1: 96.44% (488/506)\n",
      "capital-world.txt:\n",
      "ACCURACY TOP1: 96.22% (4353/4524)\n",
      "currency.txt:\n",
      "ACCURACY TOP1: 7.04% (61/866)\n",
      "city-in-state.txt:\n",
      "ACCURACY TOP1: 65.59% (1618/2467)\n",
      "family.txt:\n",
      "ACCURACY TOP1: 72.92% (369/506)\n",
      "gram1-adjective-to-adverb.txt:\n",
      "ACCURACY TOP1: 20.67% (205/992)\n",
      "gram2-opposite.txt:\n",
      "ACCURACY TOP1: 27.71% (225/812)\n",
      "gram3-comparative.txt:\n",
      "ACCURACY TOP1: 82.43% (1098/1332)\n",
      "gram4-superlative.txt:\n",
      "ACCURACY TOP1: 48.93% (549/1122)\n",
      "gram5-present-participle.txt:\n",
      "ACCURACY TOP1: 57.77% (610/1056)\n",
      "gram6-nationality-adjective.txt:\n",
      "ACCURACY TOP1: 91.31% (1460/1599)\n",
      "gram7-past-tense.txt:\n",
      "ACCURACY TOP1: 56.28% (878/1560)\n",
      "gram8-plural.txt:\n",
      "ACCURACY TOP1: 77.33% (1030/1332)\n",
      "gram9-plural-verbs.txt:\n",
      "ACCURACY TOP1: 59.43% (517/870)\n",
      "Questions seen/total: 100.00% (19544/19544)\n",
      "Semantic accuracy: 77.68%  (6889/8869)\n",
      "Syntactic accuracy: 61.56%  (6572/10675)\n",
      "Total accuracy: 68.88%  (13461/19544)\n",
      "Analogy prediction accuracy on SemEval2012 0.17454325679918348\n",
      "6750\n",
      "ACCURACY TOP1-MSR: 51.29% (3462/6750)\n",
      "capital-common-countries.txt:\n",
      "ACCURACY TOP1: 96.64% (489/506)\n",
      "capital-world.txt:\n",
      "ACCURACY TOP1: 95.56% (4323/4524)\n",
      "currency.txt:\n",
      "ACCURACY TOP1: 6.12% (53/866)\n",
      "city-in-state.txt:\n",
      "ACCURACY TOP1: 75.03% (1851/2467)\n",
      "family.txt:\n",
      "ACCURACY TOP1: 85.38% (432/506)\n",
      "gram1-adjective-to-adverb.txt:\n",
      "ACCURACY TOP1: 22.18% (220/992)\n",
      "gram2-opposite.txt:\n",
      "ACCURACY TOP1: 26.48% (215/812)\n",
      "gram3-comparative.txt:\n",
      "ACCURACY TOP1: 84.38% (1124/1332)\n",
      "gram4-superlative.txt:\n",
      "ACCURACY TOP1: 46.88% (526/1122)\n",
      "gram5-present-participle.txt:\n",
      "ACCURACY TOP1: 62.97% (665/1056)\n",
      "gram6-nationality-adjective.txt:\n",
      "ACCURACY TOP1: 92.18% (1474/1599)\n",
      "gram7-past-tense.txt:\n",
      "ACCURACY TOP1: 53.46% (834/1560)\n",
      "gram8-plural.txt:\n",
      "ACCURACY TOP1: 75.90% (1011/1332)\n",
      "gram9-plural-verbs.txt:\n",
      "ACCURACY TOP1: 59.43% (517/870)\n",
      "Questions seen/total: 100.00% (19544/19544)\n",
      "Semantic accuracy: 80.60%  (7148/8869)\n",
      "Syntactic accuracy: 61.70%  (6586/10675)\n",
      "Total accuracy: 70.27%  (13734/19544)\n",
      "Analogy prediction accuracy on SemEval2012 0.1742715205641269\n",
      "6750\n",
      "ACCURACY TOP1-MSR: 51.81% (3497/6750)\n",
      "capital-common-countries.txt:\n",
      "ACCURACY TOP1: 96.84% (490/506)\n",
      "capital-world.txt:\n",
      "ACCURACY TOP1: 96.57% (4369/4524)\n",
      "currency.txt:\n",
      "ACCURACY TOP1: 5.89% (51/866)\n",
      "city-in-state.txt:\n",
      "ACCURACY TOP1: 66.03% (1629/2467)\n",
      "family.txt:\n",
      "ACCURACY TOP1: 68.58% (347/506)\n",
      "gram1-adjective-to-adverb.txt:\n",
      "ACCURACY TOP1: 20.46% (203/992)\n",
      "gram2-opposite.txt:\n",
      "ACCURACY TOP1: 27.83% (226/812)\n",
      "gram3-comparative.txt:\n",
      "ACCURACY TOP1: 84.01% (1119/1332)\n",
      "gram4-superlative.txt:\n",
      "ACCURACY TOP1: 48.40% (543/1122)\n",
      "gram5-present-participle.txt:\n",
      "ACCURACY TOP1: 56.44% (596/1056)\n",
      "gram6-nationality-adjective.txt:\n",
      "ACCURACY TOP1: 91.62% (1465/1599)\n",
      "gram7-past-tense.txt:\n",
      "ACCURACY TOP1: 56.47% (881/1560)\n",
      "gram8-plural.txt:\n",
      "ACCURACY TOP1: 76.05% (1013/1332)\n",
      "gram9-plural-verbs.txt:\n",
      "ACCURACY TOP1: 62.18% (541/870)\n",
      "Questions seen/total: 100.00% (19544/19544)\n",
      "Semantic accuracy: 77.64%  (6886/8869)\n",
      "Syntactic accuracy: 61.70%  (6587/10675)\n",
      "Total accuracy: 68.94%  (13473/19544)\n",
      "Analogy prediction accuracy on SemEval2012 0.17776766097974608\n"
     ]
    }
   ],
   "source": [
    "evaluate_ana(hd_glove_a, hd_glove_a_w2i, hd_vocab_a)\n",
    "evaluate_ana(gn_glove_a, gn_glove_w2i, gn_vocab)\n",
    "evaluate_ana(gp_glove, gp_glove_w2i, gp_vocab)\n",
    "evaluate_ana(gp_gn_glove, gp_gn_glove_w2i, gp_gn_vocab)"
   ]
  },
  {
   "cell_type": "code",
   "execution_count": 13,
   "metadata": {},
   "outputs": [
    {
     "name": "stdout",
     "output_type": "stream",
     "text": [
      "6750\n",
      "ACCURACY TOP1-MSR: 53.81% (3632/6750)\n",
      "capital-common-countries.txt:\n",
      "ACCURACY TOP1: 96.44% (488/506)\n",
      "capital-world.txt:\n",
      "ACCURACY TOP1: 96.68% (4374/4524)\n",
      "currency.txt:\n",
      "ACCURACY TOP1: 6.00% (52/866)\n",
      "city-in-state.txt:\n",
      "ACCURACY TOP1: 74.67% (1842/2467)\n",
      "family.txt:\n",
      "ACCURACY TOP1: 83.60% (423/506)\n",
      "gram1-adjective-to-adverb.txt:\n",
      "ACCURACY TOP1: 21.07% (209/992)\n",
      "gram2-opposite.txt:\n",
      "ACCURACY TOP1: 28.33% (230/812)\n",
      "gram3-comparative.txt:\n",
      "ACCURACY TOP1: 84.46% (1125/1332)\n",
      "gram4-superlative.txt:\n",
      "ACCURACY TOP1: 47.42% (532/1122)\n",
      "gram5-present-participle.txt:\n",
      "ACCURACY TOP1: 62.88% (664/1056)\n",
      "gram6-nationality-adjective.txt:\n",
      "ACCURACY TOP1: 91.99% (1471/1599)\n",
      "gram7-past-tense.txt:\n",
      "ACCURACY TOP1: 54.62% (852/1560)\n",
      "gram8-plural.txt:\n",
      "ACCURACY TOP1: 76.43% (1018/1332)\n",
      "gram9-plural-verbs.txt:\n",
      "ACCURACY TOP1: 55.06% (479/870)\n",
      "Questions seen/total: 100.00% (19544/19544)\n",
      "Semantic accuracy: 80.94%  (7179/8869)\n",
      "Syntactic accuracy: 61.64%  (6580/10675)\n",
      "Total accuracy: 70.40%  (13759/19544)\n"
     ]
    },
    {
     "name": "stderr",
     "output_type": "stream",
     "text": [
      "/zf15/tw8cb/anaconda3/lib/python3.7/site-packages/web-0.0.1-py3.7.egg/web/evaluate.py:158: FutureWarning: arrays to stack must be passed as a \"sequence\" type such as list or tuple. Support for non-sequence iterables such as generators is deprecated as of NumPy 1.16 and will raise an error in the future.\n",
      "  prot_left = np.mean(np.vstack(w.get(word, mean_vector) for word in prototypes[:, 0]), axis=0)\n",
      "/zf15/tw8cb/anaconda3/lib/python3.7/site-packages/web-0.0.1-py3.7.egg/web/evaluate.py:159: FutureWarning: arrays to stack must be passed as a \"sequence\" type such as list or tuple. Support for non-sequence iterables such as generators is deprecated as of NumPy 1.16 and will raise an error in the future.\n",
      "  prot_right = np.mean(np.vstack(w.get(word, mean_vector) for word in prototypes[:, 1]), axis=0)\n",
      "/zf15/tw8cb/anaconda3/lib/python3.7/site-packages/web-0.0.1-py3.7.egg/web/evaluate.py:162: FutureWarning: arrays to stack must be passed as a \"sequence\" type such as list or tuple. Support for non-sequence iterables such as generators is deprecated as of NumPy 1.16 and will raise an error in the future.\n",
      "  question_left, question_right = np.vstack(w.get(word, mean_vector) for word in questions[:, 0]), \\\n",
      "/zf15/tw8cb/anaconda3/lib/python3.7/site-packages/web-0.0.1-py3.7.egg/web/evaluate.py:163: FutureWarning: arrays to stack must be passed as a \"sequence\" type such as list or tuple. Support for non-sequence iterables such as generators is deprecated as of NumPy 1.16 and will raise an error in the future.\n",
      "  np.vstack(w.get(word, mean_vector) for word in questions[:, 1])\n"
     ]
    },
    {
     "name": "stdout",
     "output_type": "stream",
     "text": [
      "Analogy prediction accuracy on SemEval2012 0.17303299182822923\n"
     ]
    }
   ],
   "source": [
    "evaluate_ana(dhd_glove, dhd_glove_w2i, dhd_vocab)"
   ]
  },
  {
   "cell_type": "markdown",
   "metadata": {},
   "source": [
    "## Gender Bias Evaluation:\n",
    "### Restrict vocabulary"
   ]
  },
  {
   "cell_type": "code",
   "execution_count": 17,
   "metadata": {},
   "outputs": [
    {
     "name": "stderr",
     "output_type": "stream",
     "text": [
      "100%|██████████| 50000/50000 [00:00<00:00, 274368.85it/s]"
     ]
    },
    {
     "name": "stdout",
     "output_type": "stream",
     "text": [
      "442\n",
      "1883\n",
      "size of vocabulary: 47628\n"
     ]
    },
    {
     "name": "stderr",
     "output_type": "stream",
     "text": [
      "\n"
     ]
    }
   ],
   "source": [
    "from tqdm import tqdm\n",
    "from utils import limit_vocab\n",
    "\n",
    "gender_specific = []\n",
    "\n",
    "with open('./data/male_word_file.txt') as f:\n",
    "    for l in f:\n",
    "        gender_specific.append(l.strip())\n",
    "with open('./data/female_word_file.txt') as f:\n",
    "    for l in f:\n",
    "        gender_specific.append(l.strip())\n",
    "print(len(gender_specific))\n",
    "\n",
    "with codecs.open('./data/gender_specific_full.json') as f:\n",
    "    gender_specific.extend(json.load(f))\n",
    "\n",
    "\n",
    "exclude_words = gender_specific\n",
    "print(len(exclude_words))\n",
    "\n",
    "glove_vocab_limit, glove_limit, glove_w2i_limit = limit_vocab(glove, glove_w2i, vocab, exclude = exclude_words)"
   ]
  },
  {
   "cell_type": "code",
   "execution_count": 18,
   "metadata": {},
   "outputs": [
    {
     "name": "stderr",
     "output_type": "stream",
     "text": [
      "100%|██████████| 50000/50000 [00:00<00:00, 389222.82it/s]\n"
     ]
    },
    {
     "name": "stdout",
     "output_type": "stream",
     "text": [
      "size of vocabulary: 47628\n"
     ]
    }
   ],
   "source": [
    "gn_vocab_limit, gn_limit, gn_w2i_limit = limit_vocab(gn_glove, gn_glove_w2i, gn_vocab, exclude = exclude_words)"
   ]
  },
  {
   "cell_type": "code",
   "execution_count": 19,
   "metadata": {},
   "outputs": [
    {
     "name": "stderr",
     "output_type": "stream",
     "text": [
      "100%|██████████| 50000/50000 [00:00<00:00, 286433.57it/s]\n"
     ]
    },
    {
     "name": "stdout",
     "output_type": "stream",
     "text": [
      "size of vocabulary: 47628\n"
     ]
    }
   ],
   "source": [
    "gn_a_vocab_limit, gn_a_limit, gn_a_w2i_limit = limit_vocab(\n",
    "    gn_glove_a, gn_glove_w2i, gn_vocab, exclude = exclude_words)"
   ]
  },
  {
   "cell_type": "code",
   "execution_count": 20,
   "metadata": {},
   "outputs": [
    {
     "name": "stderr",
     "output_type": "stream",
     "text": [
      "100%|██████████| 50000/50000 [00:00<00:00, 316926.29it/s]\n",
      "  0%|          | 0/50000 [00:00<?, ?it/s]"
     ]
    },
    {
     "name": "stdout",
     "output_type": "stream",
     "text": [
      "size of vocabulary: 47628\n"
     ]
    },
    {
     "name": "stderr",
     "output_type": "stream",
     "text": [
      "100%|██████████| 50000/50000 [00:00<00:00, 507142.77it/s]\n",
      "  0%|          | 0/50000 [00:00<?, ?it/s]"
     ]
    },
    {
     "name": "stdout",
     "output_type": "stream",
     "text": [
      "size of vocabulary: 47628\n"
     ]
    },
    {
     "name": "stderr",
     "output_type": "stream",
     "text": [
      "100%|██████████| 50000/50000 [00:00<00:00, 362967.85it/s]\n",
      "  0%|          | 0/50000 [00:00<?, ?it/s]"
     ]
    },
    {
     "name": "stdout",
     "output_type": "stream",
     "text": [
      "size of vocabulary: 47628\n"
     ]
    },
    {
     "name": "stderr",
     "output_type": "stream",
     "text": [
      "100%|██████████| 50000/50000 [00:00<00:00, 376660.59it/s]\n"
     ]
    },
    {
     "name": "stdout",
     "output_type": "stream",
     "text": [
      "size of vocabulary: 47628\n"
     ]
    }
   ],
   "source": [
    "gp_vocab_limit, gp_limit, gp_w2i_limit = limit_vocab(\n",
    "    gp_glove, gp_glove_w2i, gp_vocab, exclude = exclude_words)\n",
    "gp_gn_vocab_limit, gp_gn_limit, gp_gn_w2i_limit = limit_vocab(\n",
    "    gp_gn_glove, gp_gn_glove_w2i, gp_gn_vocab, exclude = exclude_words)\n",
    "\n",
    "hd_vocab_limit, hd_limit, hd_w2i_limit = limit_vocab(\n",
    "    hd_glove, hd_glove_w2i, hd_vocab, exclude = exclude_words)\n",
    "hd_a_vocab_limit, hd_a_limit, hd_a_w2i_limit = limit_vocab(\n",
    "    hd_glove_a, hd_glove_a_w2i, hd_vocab_a, exclude = exclude_words)"
   ]
  },
  {
   "cell_type": "code",
   "execution_count": 21,
   "metadata": {},
   "outputs": [
    {
     "name": "stderr",
     "output_type": "stream",
     "text": [
      "100%|██████████| 50000/50000 [00:00<00:00, 499453.90it/s]\n"
     ]
    },
    {
     "name": "stdout",
     "output_type": "stream",
     "text": [
      "size of vocabulary: 47628\n"
     ]
    }
   ],
   "source": [
    "dhd_vocab_limit, dhd_limit, dhd_w2i_limit = limit_vocab(\n",
    "    dhd_glove, dhd_glove_w2i, dhd_vocab, exclude = exclude_words)"
   ]
  },
  {
   "cell_type": "markdown",
   "metadata": {},
   "source": [
    "### Select originally top biased words"
   ]
  },
  {
   "cell_type": "code",
   "execution_count": 196,
   "metadata": {},
   "outputs": [],
   "source": [
    "he_embed = glove[glove_w2i['he'], :]\n",
    "she_embed = glove[glove_w2i['she'], :]\n",
    "\n",
    "def simi(a, b):\n",
    "    return 1-scipy.spatial.distance.cosine(a, b)\n",
    "\n",
    "def compute_bias_by_projection(wv, w2i, vocab):\n",
    "    d = {}\n",
    "    for w in vocab:\n",
    "        u = wv[w2i[w], :]\n",
    "        d[w] = simi(u, he_embed) - simi(u, she_embed)\n",
    "    return d\n",
    "\n",
    "gender_bias_bef = compute_bias_by_projection(glove_limit, glove_w2i_limit, glove_vocab_limit)\n",
    "sorted_g = sorted(gender_bias_bef.items(), key=operator.itemgetter(1))"
   ]
  },
  {
   "cell_type": "markdown",
   "metadata": {},
   "source": [
    "### TSNE visualization of originally top biased words"
   ]
  },
  {
   "cell_type": "code",
   "execution_count": 243,
   "metadata": {},
   "outputs": [],
   "source": [
    "def visualize(vectors, y_true, y_pred, ax, title, random_state):\n",
    "    \n",
    "    # perform TSNE\n",
    "    vectors = normalize(vectors)\n",
    "    X_embedded = TSNE(n_components=2, random_state=random_state).fit_transform(vectors)\n",
    "    for x,p,y in zip(X_embedded, y_pred, y_true):\n",
    "        if y:\n",
    "            ax.scatter(x[0], x[1], marker = '.', c = 'c')\n",
    "        else:\n",
    "            ax.scatter(x[0], x[1], marker = 'x', c = 'darkviolet')\n",
    "    \n",
    "    return ax\n",
    "\n",
    "def cluster_and_visualize(words, X1, title, random_state, tsne_random_state, y_true, num=2):\n",
    "    \n",
    "    kmeans_1 = KMeans(n_clusters=num, random_state=random_state).fit(X1)\n",
    "    y_pred_1 = kmeans_1.predict(X1)\n",
    "    correct = [1 if item1 == item2 else 0 for (item1,item2) in zip(y_true, y_pred_1) ]\n",
    "    print('precision', max(sum(correct)/float(len(correct)), 1 - sum(correct)/float(len(correct))))\n",
    "    \n",
    "    fig, axs = plt.subplots(1, 1, figsize=(6, 3))\n",
    "    ax1 = visualize(X1, y_true, y_pred_1, axs, title, tsne_random_state)\n",
    "    \n",
    "#     fig.savefig(\"a_{}_{}_{}.pdf\".format(title, size, random_state))\n"
   ]
  },
  {
   "cell_type": "code",
   "execution_count": null,
   "metadata": {},
   "outputs": [],
   "source": [
    "from sklearn.cluster import KMeans\n",
    "from sklearn.manifold import TSNE\n",
    "from utils import extract_vectors\n",
    "import operator\n",
    "import matplotlib as mpl\n",
    "import matplotlib.pyplot as plt\n",
    "from cycler import cycler\n",
    "%matplotlib inline\n",
    "\n",
    "size=200\n",
    "female = [item[0] for item in sorted_g[:size]]\n",
    "male = [item[0] for item in sorted_g[-size:]]\n",
    "y_true = [1]*size + [0]*size"
   ]
  },
  {
   "cell_type": "code",
   "execution_count": 245,
   "metadata": {},
   "outputs": [],
   "source": [
    "# You may change the random states to get more visualization result\n",
    "random_state = 0\n",
    "tsne_random_state = 5"
   ]
  },
  {
   "cell_type": "code",
   "execution_count": 246,
   "metadata": {},
   "outputs": [
    {
     "name": "stdout",
     "output_type": "stream",
     "text": [
      "precision 1.0\n"
     ]
    },
    {
     "data": {
      "image/png": "[encoded data removed]",
      "text/plain": [
       "<Figure size 432x216 with 1 Axes>"
      ]
     },
     "metadata": {
      "needs_background": "light"
     },
     "output_type": "display_data"
    }
   ],
   "source": [
    "cluster_and_visualize(male + female, extract_vectors(male + female, glove_limit, glove_w2i_limit), \n",
    "                          'GloVe', random_state, tsne_random_state, y_true)"
   ]
  },
  {
   "cell_type": "code",
   "execution_count": 247,
   "metadata": {},
   "outputs": [
    {
     "name": "stdout",
     "output_type": "stream",
     "text": [
      "precision 0.7775\n"
     ]
    },
    {
     "data": {
      "image/png": "[encoded data removed]",
      "text/plain": [
       "<Figure size 432x216 with 1 Axes>"
      ]
     },
     "metadata": {
      "needs_background": "light"
     },
     "output_type": "display_data"
    }
   ],
   "source": [
    "cluster_and_visualize(male + female, extract_vectors(male + female, hd_limit, hd_w2i_limit), \n",
    "                          'Hard-GloVe', random_state, tsne_random_state, y_true)"
   ]
  },
  {
   "cell_type": "code",
   "execution_count": 248,
   "metadata": {},
   "outputs": [
    {
     "name": "stdout",
     "output_type": "stream",
     "text": [
      "precision 0.7775\n"
     ]
    },
    {
     "data": {
      "image/png": "[encoded data removed]",
      "text/plain": [
       "<Figure size 432x216 with 1 Axes>"
      ]
     },
     "metadata": {
      "needs_background": "light"
     },
     "output_type": "display_data"
    }
   ],
   "source": [
    "cluster_and_visualize(male + female, extract_vectors(male + female, hd_a_limit, hd_a_w2i_limit), \n",
    "                          ' Strong-Hard-GloVe', random_state, tsne_random_state, y_true)"
   ]
  },
  {
   "cell_type": "code",
   "execution_count": 244,
   "metadata": {},
   "outputs": [
    {
     "name": "stdout",
     "output_type": "stream",
     "text": [
      "precision 0.6225\n"
     ]
    },
    {
     "data": {
      "image/png": "[encoded data removed]",
      "text/plain": [
       "<Figure size 432x216 with 1 Axes>"
      ]
     },
     "metadata": {
      "needs_background": "light"
     },
     "output_type": "display_data"
    }
   ],
   "source": [
    "cluster_and_visualize(male + female, extract_vectors(male + female, dhd_limit, dhd_w2i_limit), \n",
    "                          'Double-Hard-GloVe', random_state, tsne_random_state, y_true)"
   ]
  },
  {
   "cell_type": "code",
   "execution_count": 249,
   "metadata": {},
   "outputs": [
    {
     "name": "stdout",
     "output_type": "stream",
     "text": [
      "precision 1.0\n"
     ]
    },
    {
     "data": {
      "image/png": "[encoded data removed]",
      "text/plain": [
       "<Figure size 432x216 with 1 Axes>"
      ]
     },
     "metadata": {
      "needs_background": "light"
     },
     "output_type": "display_data"
    }
   ],
   "source": [
    "cluster_and_visualize(male + female, extract_vectors(male + female, gn_limit, gn_w2i_limit), \n",
    "                          'GN-GloVe', random_state, tsne_random_state, y_true)"
   ]
  },
  {
   "cell_type": "code",
   "execution_count": 250,
   "metadata": {},
   "outputs": [
    {
     "name": "stdout",
     "output_type": "stream",
     "text": [
      "precision 0.9975\n"
     ]
    },
    {
     "data": {
      "image/png": "[encoded data removed]",
      "text/plain": [
       "<Figure size 432x216 with 1 Axes>"
      ]
     },
     "metadata": {
      "needs_background": "light"
     },
     "output_type": "display_data"
    }
   ],
   "source": [
    "cluster_and_visualize(male + female, extract_vectors(male + female, gn_a_limit, gn_a_w2i_limit), \n",
    "                          'GN-GloVe_a', random_state, tsne_random_state,  y_true)"
   ]
  },
  {
   "cell_type": "code",
   "execution_count": 251,
   "metadata": {},
   "outputs": [
    {
     "name": "stdout",
     "output_type": "stream",
     "text": [
      "precision 1.0\n"
     ]
    },
    {
     "data": {
      "image/png": "[encoded data removed]",
      "text/plain": [
       "<Figure size 432x216 with 1 Axes>"
      ]
     },
     "metadata": {
      "needs_background": "light"
     },
     "output_type": "display_data"
    }
   ],
   "source": [
    "cluster_and_visualize(male + female, extract_vectors(male + female, gp_limit, gp_w2i_limit), \n",
    "                          'GP-GloVe', random_state, tsne_random_state,  y_true)"
   ]
  },
  {
   "cell_type": "code",
   "execution_count": 252,
   "metadata": {},
   "outputs": [
    {
     "name": "stdout",
     "output_type": "stream",
     "text": [
      "precision 1.0\n"
     ]
    },
    {
     "data": {
      "image/png": "[encoded data removed]",
      "text/plain": [
       "<Figure size 432x216 with 1 Axes>"
      ]
     },
     "metadata": {
      "needs_background": "light"
     },
     "output_type": "display_data"
    }
   ],
   "source": [
    "cluster_and_visualize(male + female, extract_vectors(male + female, gp_gn_limit, gp_gn_w2i_limit), \n",
    "                          'GP-GN-GloVe', random_state, tsne_random_state, y_true)"
   ]
  },
  {
   "cell_type": "markdown",
   "metadata": {},
   "source": [
    "### Cluster originally top biased words\n",
    "Following results may be slightly different from the numbers reported in the paper. This is due to:\n",
    "\n",
    "1. how we select top biased words. Here, we select ones with largest similarities with **he** and **she** without normalizing embeddings, however, this may not be the perfect way. Other options can be:\n",
    "    - normalize word embeddings first and then pick top biased words.\n",
    "    - select according to projections on the difference vector of **he** and **she**.\n",
    "2. different random state used in the clustering algorithm.\n",
    "\n",
    "We care more about the relative clustering acc change and we see significant decrease with Double-Hard Debiased embeddings."
   ]
  },
  {
   "cell_type": "code",
   "execution_count": 220,
   "metadata": {},
   "outputs": [],
   "source": [
    "def cluster(words, X1, random_state, y_true, num=2):\n",
    "    \n",
    "    kmeans_1 = KMeans(n_clusters=num, random_state=random_state).fit(X1)\n",
    "    y_pred_1 = kmeans_1.predict(X1)\n",
    "    correct = [1 if item1 == item2 else 0 for (item1,item2) in zip(y_true, y_pred_1) ]\n",
    "    print('precision', max(sum(correct)/float(len(correct)), 1 - sum(correct)/float(len(correct))))"
   ]
  },
  {
   "cell_type": "code",
   "execution_count": 221,
   "metadata": {},
   "outputs": [],
   "source": [
    "# Cluster most biased words before and after debiasing\n",
    "\n",
    "def my_cluster(wv, w2i, start=0, size=500, random_state = 1):\n",
    "    \n",
    "    if start == 0:\n",
    "        female = [item[0] for item in sorted_g[:size]]\n",
    "        male = [item[0] for item in sorted_g[-size:]]\n",
    "    else:\n",
    "        female = [item[0] for item in sorted_g[start:size+start]]\n",
    "        male = [item[0] for item in sorted_g[-(start+size):-start]]\n",
    "\n",
    "    y_true = [1]*size + [0]*size\n",
    "    \n",
    "    cluster(male + female, extract_vectors(male + female, wv, w2i), random_state, y_true)"
   ]
  },
  {
   "cell_type": "code",
   "execution_count": 239,
   "metadata": {},
   "outputs": [
    {
     "name": "stdout",
     "output_type": "stream",
     "text": [
      "precision 1.0\n",
      "precision 0.765\n",
      "precision 0.765\n",
      "precision 1.0\n",
      "precision 1.0\n",
      "precision 1.0\n",
      "precision 1.0\n",
      "precision 0.665\n"
     ]
    }
   ],
   "source": [
    "random_state_=0\n",
    "start=0\n",
    "end=100\n",
    "my_cluster(glove_limit, glove_w2i_limit, start, end, random_state=random_state_)\n",
    "my_cluster(hd_limit, hd_w2i_limit, start, end, random_state=random_state_)\n",
    "my_cluster(hd_a_limit, hd_a_w2i_limit, start, end, random_state=random_state_)\n",
    "my_cluster(gn_limit, gn_w2i_limit, start, end, random_state=random_state_)\n",
    "my_cluster(gn_a_limit, gn_a_w2i_limit, start, end, random_state=random_state_)\n",
    "my_cluster(gp_limit, gp_w2i_limit, start, end, random_state=random_state_)\n",
    "my_cluster(gp_gn_limit, gp_gn_w2i_limit, start, end, random_state=random_state_)\n",
    "my_cluster(dhd_limit, dhd_w2i_limit, start, end, random_state=random_state_)"
   ]
  },
  {
   "cell_type": "code",
   "execution_count": 224,
   "metadata": {},
   "outputs": [
    {
     "name": "stdout",
     "output_type": "stream",
     "text": [
      "precision 1.0\n",
      "precision 0.8029999999999999\n",
      "precision 0.8029999999999999\n",
      "precision 1.0\n",
      "precision 0.995\n",
      "precision 1.0\n",
      "precision 1.0\n",
      "precision 0.741\n"
     ]
    }
   ],
   "source": [
    "random_state_=0\n",
    "start=0\n",
    "end=500\n",
    "my_cluster(glove_limit, glove_w2i_limit, start, end, random_state=random_state_)\n",
    "my_cluster(hd_limit, hd_w2i_limit, start, end, random_state=random_state_)\n",
    "my_cluster(hd_a_limit, hd_a_w2i_limit, start, end, random_state=random_state_)\n",
    "my_cluster(gn_limit, gn_w2i_limit, start, end, random_state=random_state_)\n",
    "my_cluster(gn_a_limit, gn_a_w2i_limit, start, end, random_state=random_state_)\n",
    "my_cluster(gp_limit, gp_w2i_limit, start, end, random_state=random_state_)\n",
    "my_cluster(gp_gn_limit, gp_gn_w2i_limit, start, end, random_state=random_state_)\n",
    "my_cluster(dhd_limit, dhd_w2i_limit, start, end, random_state=random_state_)"
   ]
  },
  {
   "cell_type": "code",
   "execution_count": 58,
   "metadata": {},
   "outputs": [
    {
     "name": "stdout",
     "output_type": "stream",
     "text": [
      "precision 1.0\n",
      "precision 0.8025\n",
      "precision 0.8025\n",
      "precision 0.998\n",
      "precision 0.8945\n",
      "precision 1.0\n",
      "precision 0.9995\n",
      "precision 0.704\n"
     ]
    }
   ],
   "source": [
    "random_state_= 0\n",
    "start=0\n",
    "end=1000\n",
    "my_cluster(glove_limit, glove_w2i_limit, start, end, random_state=random_state_)\n",
    "my_cluster(hd_limit, hd_w2i_limit, start, end, random_state=random_state_)\n",
    "my_cluster(hd_a_limit, hd_a_w2i_limit, start, end, random_state=random_state_)\n",
    "my_cluster(gn_limit, gn_w2i_limit, start, end, random_state=random_state_)\n",
    "my_cluster(gn_a_limit, gn_a_w2i_limit, start, end, random_state=random_state_)\n",
    "my_cluster(gp_limit, gp_w2i_limit, start, end, random_state=random_state_)\n",
    "my_cluster(gp_gn_limit, gp_gn_w2i_limit, start, end, random_state=random_state_)\n",
    "my_cluster(dhd_limit, dhd_w2i_limit, start, end, random_state=random_state_)"
   ]
  },
  {
   "cell_type": "markdown",
   "metadata": {},
   "source": [
    "### Classification experiment\n",
    "\n",
    "We also test classification experiment as described in [Lipstick on a Pig](https://arxiv.org/abs/1903.03862). However, we don't see any significant improvement on any debiasing approaches. We suspect that classification may not reflect gender bia correctly as it can always find a decision boundary with supervisions which may not be gender. "
   ]
  },
  {
   "cell_type": "code",
   "execution_count": 73,
   "metadata": {},
   "outputs": [],
   "source": [
    "from sklearn import svm\n",
    "from random import shuffle\n",
    "import random\n",
    "from utils import train_and_predict\n",
    "\n",
    "def cls(wv, w2i, vocab, size_train, size_test):\n",
    "    size = size_train + size_test\n",
    "    females = [item[0] for item in sorted_g[:size]]\n",
    "    males = [item[0] for item in sorted_g[-size:]]\n",
    "    males.reverse()\n",
    "\n",
    "    shuffle(females)\n",
    "    shuffle(males)\n",
    "\n",
    "    train_and_predict(wv, w2i, vocab, size_train, size_test, males, females)"
   ]
  },
  {
   "cell_type": "code",
   "execution_count": 74,
   "metadata": {},
   "outputs": [
    {
     "name": "stdout",
     "output_type": "stream",
     "text": [
      "accuracy: 1.0\n",
      "accuracy: 0.9105\n",
      "accuracy: 0.9265\n",
      "accuracy: 1.0\n",
      "accuracy: 0.9935\n",
      "accuracy: 0.995\n",
      "accuracy: 1.0\n",
      "accuracy: 0.8905\n"
     ]
    }
   ],
   "source": [
    "size_train=100\n",
    "size_test=1000\n",
    "cls(glove_limit, glove_w2i_limit, glove_vocab_limit, size_train, size_test)\n",
    "cls(hd_limit, hd_w2i_limit, hd_vocab_limit, size_train, size_test)\n",
    "cls(hd_a_limit, hd_a_w2i_limit, hd_a_vocab_limit, size_train, size_test)\n",
    "cls(gn_limit, gn_w2i_limit, gn_vocab_limit, size_train, size_test)\n",
    "cls(gn_a_limit, gn_a_w2i_limit, gn_a_vocab_limit, size_train, size_test)\n",
    "cls(gp_limit, gp_w2i_limit, gp_vocab_limit, size_train, size_test)\n",
    "cls(gp_gn_limit, gp_gn_w2i_limit, gp_gn_vocab_limit, size_train, size_test)\n",
    "cls(dhd_limit, dhd_w2i_limit, dhd_vocab_limit, size_train, size_test)"
   ]
  },
  {
   "cell_type": "markdown",
   "metadata": {},
   "source": [
    "### Association Experiments (Calisken et al.)"
   ]
  },
  {
   "cell_type": "code",
   "execution_count": 81,
   "metadata": {},
   "outputs": [
    {
     "name": "stdout",
     "output_type": "stream",
     "text": [
      "['john', 'paul', 'mike', 'kevin', 'steve', 'greg', 'jeff', 'tom']\n",
      "['amy', 'joan', 'lisa', 'sarah', 'diana', 'kate', 'ann', 'donna']\n",
      "['executive', 'management', 'professional', 'corporation', 'salary', 'office', 'business', 'career']\n",
      "['home', 'parents', 'children', 'family', 'cousins', 'marriage', 'wedding', 'relatives']\n"
     ]
    }
   ],
   "source": [
    "from utils import p_value_exhust, effect_size\n",
    "from utils import WEAT_words\n",
    "\n",
    "A = WEAT_words['A']\n",
    "B = WEAT_words['B']\n",
    "C = WEAT_words['C']\n",
    "D = WEAT_words['D']\n",
    "# C = WEAT_words['E']\n",
    "# D = WEAT_words['F']\n",
    "# C = WEAT_words['G']\n",
    "# D = WEAT_words['H']\n",
    "\n",
    "A = [elem.lower() for elem in A]\n",
    "A = ['john', 'paul', 'mike', 'kevin', 'steve', 'greg', 'jeff', 'tom']\n",
    "B = [elem.lower() for elem in B]\n",
    "B = ['amy', 'joan', 'lisa', 'sarah', 'diana', 'kate', 'ann', 'donna']\n",
    "C = [elem.lower() for elem in C]\n",
    "D = [elem.lower() for elem in D]\n",
    "print(A)\n",
    "print(B)\n",
    "print(C)\n",
    "print(D)"
   ]
  },
  {
   "cell_type": "code",
   "execution_count": 82,
   "metadata": {},
   "outputs": [
    {
     "name": "stdout",
     "output_type": "stream",
     "text": [
      "1.805996189486473\n",
      "1.546645694968245\n",
      "1.5466455821704757\n",
      "1.8211045958742451\n",
      "1.7554763167372835\n",
      "1.8058846500019743\n",
      "1.7974306940681066\n",
      "1.5313012260878656\n"
     ]
    }
   ],
   "source": [
    "print(effect_size(A, B, C, D, glove, glove_w2i, vocab))\n",
    "print(effect_size(A, B, C, D, hd_glove, hd_glove_w2i, hd_vocab))\n",
    "print(effect_size(A, B, C, D, hd_glove_a, hd_glove_a_w2i, hd_vocab_a))\n",
    "print(effect_size(A, B, C, D, gn_glove, gn_glove_w2i, gn_vocab))\n",
    "print(effect_size(A, B, C, D, gn_glove_a, gn_glove_w2i, gn_vocab))\n",
    "print(effect_size(A, B, C, D, gp_glove, gp_glove_w2i, gp_vocab))\n",
    "print(effect_size(A, B, C, D, gp_gn_glove, gp_gn_glove_w2i, gp_gn_vocab))\n",
    "print(effect_size(A, B, C, D, dhd_glove, dhd_glove_w2i, dhd_vocab))"
   ]
  },
  {
   "cell_type": "code",
   "execution_count": 83,
   "metadata": {},
   "outputs": [
    {
     "name": "stdout",
     "output_type": "stream",
     "text": [
      "num of samples 12870\n",
      "0.0\n",
      "num of samples 12870\n",
      "0.0001554001554001554\n",
      "num of samples 12870\n",
      "0.0001554001554001554\n",
      "num of samples 12870\n",
      "0.0\n",
      "num of samples 12870\n",
      "0.0\n",
      "num of samples 12870\n",
      "0.0\n",
      "num of samples 12870\n",
      "0.0\n",
      "num of samples 12870\n",
      "0.0001554001554001554\n"
     ]
    }
   ],
   "source": [
    "print(p_value_exhust(A, B, C, D, glove, glove_w2i, vocab))\n",
    "print(p_value_exhust(A, B, C, D, hd_glove, hd_glove_w2i, hd_vocab))\n",
    "print(p_value_exhust(A, B, C, D, hd_glove_a, hd_glove_a_w2i, hd_vocab_a))\n",
    "print(p_value_exhust(A, B, C, D, gn_glove, gn_glove_w2i, gn_vocab))\n",
    "print(p_value_exhust(A, B, C, D, gn_glove_a, gn_glove_w2i, gn_vocab))\n",
    "print(p_value_exhust(A, B, C, D, gp_glove, gp_glove_w2i, gp_vocab))\n",
    "print(p_value_exhust(A, B, C, D, gp_gn_glove, gp_gn_glove_w2i, gp_gn_vocab))\n",
    "print(p_value_exhust(A, B, C, D, dhd_glove, dhd_glove_w2i, dhd_vocab))"
   ]
  }
 ],
 "metadata": {
  "kernelspec": {
   "display_name": "Python 3",
   "language": "python",
   "name": "python3"
  },
  "language_info": {
   "codemirror_mode": {
    "name": "ipython",
    "version": 3
   },
   "file_extension": ".py",
   "mimetype": "text/x-python",
   "name": "python",
   "nbconvert_exporter": "python",
   "pygments_lexer": "ipython3",
   "version": "3.7.6"
  }
 },
 "nbformat": 4,
 "nbformat_minor": 2
}
